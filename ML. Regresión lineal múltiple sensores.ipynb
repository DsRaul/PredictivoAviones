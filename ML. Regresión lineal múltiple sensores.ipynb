{
 "cells": [
  {
   "cell_type": "code",
   "execution_count": 1,
   "metadata": {
    "executionInfo": {
     "elapsed": 808,
     "status": "ok",
     "timestamp": 1633569380605,
     "user": {
      "displayName": "orlando belli",
      "photoUrl": "https://lh3.googleusercontent.com/a-/AOh14GjEYipEc8UYvi9I0KWDDIN3LXw_BByHVyiM2iLBKQ=s64",
      "userId": "16331666692442260184"
     },
     "user_tz": 300
    },
    "id": "09TBUDZG28M3"
   },
   "outputs": [],
   "source": [
    "# Regresión Lineal Múltiple\n",
    "# Cómo importar las librerías\n",
    "\n",
    "import numpy as np                # manejo de matrices\n",
    "import matplotlib.pyplot as plt   # manejo de gráficas\n",
    "import pandas as pd               # manejo de dataframes\n",
    "import seaborn as sns             # manejo de gráficas"
   ]
  },
  {
   "cell_type": "code",
   "execution_count": 2,
   "metadata": {
    "colab": {
     "base_uri": "https://localhost:8080/",
     "height": 224
    },
    "executionInfo": {
     "elapsed": 6534,
     "status": "ok",
     "timestamp": 1633569402042,
     "user": {
      "displayName": "orlando belli",
      "photoUrl": "https://lh3.googleusercontent.com/a-/AOh14GjEYipEc8UYvi9I0KWDDIN3LXw_BByHVyiM2iLBKQ=s64",
      "userId": "16331666692442260184"
     },
     "user_tz": 300
    },
    "id": "YwdiIujW3kqW",
    "outputId": "79d1a3ff-99ee-4a19-9caf-eaf9183c30ba"
   },
   "outputs": [
    {
     "data": {
      "text/html": [
       "<div>\n",
       "<style scoped>\n",
       "    .dataframe tbody tr th:only-of-type {\n",
       "        vertical-align: middle;\n",
       "    }\n",
       "\n",
       "    .dataframe tbody tr th {\n",
       "        vertical-align: top;\n",
       "    }\n",
       "\n",
       "    .dataframe thead th {\n",
       "        text-align: right;\n",
       "    }\n",
       "</style>\n",
       "<table border=\"1\" class=\"dataframe\">\n",
       "  <thead>\n",
       "    <tr style=\"text-align: right;\">\n",
       "      <th></th>\n",
       "      <th>activo_id</th>\n",
       "      <th>ciclo</th>\n",
       "      <th>os1</th>\n",
       "      <th>os2</th>\n",
       "      <th>os3</th>\n",
       "      <th>s1</th>\n",
       "      <th>s2</th>\n",
       "      <th>s3</th>\n",
       "      <th>s4</th>\n",
       "      <th>s5</th>\n",
       "      <th>...</th>\n",
       "      <th>s12</th>\n",
       "      <th>s13</th>\n",
       "      <th>s14</th>\n",
       "      <th>s15</th>\n",
       "      <th>s16</th>\n",
       "      <th>s17</th>\n",
       "      <th>s18</th>\n",
       "      <th>s19</th>\n",
       "      <th>s20</th>\n",
       "      <th>s21</th>\n",
       "    </tr>\n",
       "  </thead>\n",
       "  <tbody>\n",
       "    <tr>\n",
       "      <th>0</th>\n",
       "      <td>1</td>\n",
       "      <td>1</td>\n",
       "      <td>-0.0005</td>\n",
       "      <td>0.0004</td>\n",
       "      <td>100</td>\n",
       "      <td>518.67</td>\n",
       "      <td>642.36</td>\n",
       "      <td>1583.23</td>\n",
       "      <td>1396.84</td>\n",
       "      <td>14.62</td>\n",
       "      <td>...</td>\n",
       "      <td>522.31</td>\n",
       "      <td>2388.01</td>\n",
       "      <td>8145.32</td>\n",
       "      <td>8.4246</td>\n",
       "      <td>0.03</td>\n",
       "      <td>391</td>\n",
       "      <td>2388</td>\n",
       "      <td>100</td>\n",
       "      <td>39.11</td>\n",
       "      <td>23.3537</td>\n",
       "    </tr>\n",
       "    <tr>\n",
       "      <th>1</th>\n",
       "      <td>1</td>\n",
       "      <td>2</td>\n",
       "      <td>0.0008</td>\n",
       "      <td>-0.0003</td>\n",
       "      <td>100</td>\n",
       "      <td>518.67</td>\n",
       "      <td>642.50</td>\n",
       "      <td>1584.69</td>\n",
       "      <td>1396.89</td>\n",
       "      <td>14.62</td>\n",
       "      <td>...</td>\n",
       "      <td>522.42</td>\n",
       "      <td>2388.03</td>\n",
       "      <td>8152.85</td>\n",
       "      <td>8.4403</td>\n",
       "      <td>0.03</td>\n",
       "      <td>392</td>\n",
       "      <td>2388</td>\n",
       "      <td>100</td>\n",
       "      <td>38.99</td>\n",
       "      <td>23.4491</td>\n",
       "    </tr>\n",
       "    <tr>\n",
       "      <th>2</th>\n",
       "      <td>1</td>\n",
       "      <td>3</td>\n",
       "      <td>-0.0014</td>\n",
       "      <td>-0.0002</td>\n",
       "      <td>100</td>\n",
       "      <td>518.67</td>\n",
       "      <td>642.18</td>\n",
       "      <td>1582.35</td>\n",
       "      <td>1405.61</td>\n",
       "      <td>14.62</td>\n",
       "      <td>...</td>\n",
       "      <td>522.03</td>\n",
       "      <td>2388.00</td>\n",
       "      <td>8150.17</td>\n",
       "      <td>8.3901</td>\n",
       "      <td>0.03</td>\n",
       "      <td>391</td>\n",
       "      <td>2388</td>\n",
       "      <td>100</td>\n",
       "      <td>38.85</td>\n",
       "      <td>23.3669</td>\n",
       "    </tr>\n",
       "    <tr>\n",
       "      <th>3</th>\n",
       "      <td>1</td>\n",
       "      <td>4</td>\n",
       "      <td>-0.0020</td>\n",
       "      <td>0.0001</td>\n",
       "      <td>100</td>\n",
       "      <td>518.67</td>\n",
       "      <td>642.92</td>\n",
       "      <td>1585.61</td>\n",
       "      <td>1392.27</td>\n",
       "      <td>14.62</td>\n",
       "      <td>...</td>\n",
       "      <td>522.49</td>\n",
       "      <td>2388.08</td>\n",
       "      <td>8146.56</td>\n",
       "      <td>8.3878</td>\n",
       "      <td>0.03</td>\n",
       "      <td>392</td>\n",
       "      <td>2388</td>\n",
       "      <td>100</td>\n",
       "      <td>38.96</td>\n",
       "      <td>23.2951</td>\n",
       "    </tr>\n",
       "    <tr>\n",
       "      <th>4</th>\n",
       "      <td>1</td>\n",
       "      <td>5</td>\n",
       "      <td>0.0016</td>\n",
       "      <td>0.0000</td>\n",
       "      <td>100</td>\n",
       "      <td>518.67</td>\n",
       "      <td>641.68</td>\n",
       "      <td>1588.63</td>\n",
       "      <td>1397.65</td>\n",
       "      <td>14.62</td>\n",
       "      <td>...</td>\n",
       "      <td>522.58</td>\n",
       "      <td>2388.03</td>\n",
       "      <td>8147.80</td>\n",
       "      <td>8.3869</td>\n",
       "      <td>0.03</td>\n",
       "      <td>392</td>\n",
       "      <td>2388</td>\n",
       "      <td>100</td>\n",
       "      <td>39.14</td>\n",
       "      <td>23.4583</td>\n",
       "    </tr>\n",
       "  </tbody>\n",
       "</table>\n",
       "<p>5 rows × 26 columns</p>\n",
       "</div>"
      ],
      "text/plain": [
       "   activo_id  ciclo     os1     os2  os3      s1      s2       s3       s4  \\\n",
       "0          1      1 -0.0005  0.0004  100  518.67  642.36  1583.23  1396.84   \n",
       "1          1      2  0.0008 -0.0003  100  518.67  642.50  1584.69  1396.89   \n",
       "2          1      3 -0.0014 -0.0002  100  518.67  642.18  1582.35  1405.61   \n",
       "3          1      4 -0.0020  0.0001  100  518.67  642.92  1585.61  1392.27   \n",
       "4          1      5  0.0016  0.0000  100  518.67  641.68  1588.63  1397.65   \n",
       "\n",
       "      s5  ...     s12      s13      s14     s15   s16  s17   s18  s19    s20  \\\n",
       "0  14.62  ...  522.31  2388.01  8145.32  8.4246  0.03  391  2388  100  39.11   \n",
       "1  14.62  ...  522.42  2388.03  8152.85  8.4403  0.03  392  2388  100  38.99   \n",
       "2  14.62  ...  522.03  2388.00  8150.17  8.3901  0.03  391  2388  100  38.85   \n",
       "3  14.62  ...  522.49  2388.08  8146.56  8.3878  0.03  392  2388  100  38.96   \n",
       "4  14.62  ...  522.58  2388.03  8147.80  8.3869  0.03  392  2388  100  39.14   \n",
       "\n",
       "       s21  \n",
       "0  23.3537  \n",
       "1  23.4491  \n",
       "2  23.3669  \n",
       "3  23.2951  \n",
       "4  23.4583  \n",
       "\n",
       "[5 rows x 26 columns]"
      ]
     },
     "execution_count": 2,
     "metadata": {},
     "output_type": "execute_result"
    }
   ],
   "source": [
    "# Importar el data set\n",
    "\n",
    "link = 'https://docs.google.com/spreadsheets/d/e/2PACX-1vRmiurMw8cuExDVn6c2fQdwsb3-79ZaQ5EC5nyBtD3nIHMBQhWzGfmRB2hy6QA-2A/pub?gid=772676963&single=true&output=csv'\n",
    "\n",
    "# leer el enlace y guardarlo en la variable llamada dataset\n",
    "\n",
    "dataset = pd.read_csv(link)\n",
    "dataset.head()"
   ]
  },
  {
   "cell_type": "code",
   "execution_count": 5,
   "metadata": {
    "colab": {
     "base_uri": "https://localhost:8080/"
    },
    "executionInfo": {
     "elapsed": 328,
     "status": "ok",
     "timestamp": 1633569440359,
     "user": {
      "displayName": "orlando belli",
      "photoUrl": "https://lh3.googleusercontent.com/a-/AOh14GjEYipEc8UYvi9I0KWDDIN3LXw_BByHVyiM2iLBKQ=s64",
      "userId": "16331666692442260184"
     },
     "user_tz": 300
    },
    "id": "83OHkF52WSck",
    "outputId": "2191268b-4e76-4af7-90be-e8ff7479f700"
   },
   "outputs": [
    {
     "data": {
      "text/plain": [
       "array([  1,   2,   3,   4,   5,   6,   7,   8,   9,  10,  11,  12,  13,\n",
       "        14,  15,  16,  17,  18,  19,  20,  21,  22,  23,  24,  25,  26,\n",
       "        27,  28,  29,  30,  31,  32,  33,  34,  35,  36,  37,  38,  39,\n",
       "        40,  41,  42,  43,  44,  45,  46,  47,  48,  49,  50,  51,  52,\n",
       "        53,  54,  55,  56,  57,  58,  59,  60,  61,  62,  63,  64,  65,\n",
       "        66,  67,  68,  69,  70,  71,  72,  73,  74,  75,  76,  77,  78,\n",
       "        79,  80,  81,  82,  83,  84,  85,  86,  87,  88,  89,  90,  91,\n",
       "        92,  93,  94,  95,  96,  97,  98,  99, 100], dtype=int64)"
      ]
     },
     "execution_count": 5,
     "metadata": {},
     "output_type": "execute_result"
    }
   ],
   "source": [
    "# cuantos activos hay?\n",
    "\n",
    "dataset.activo_id.unique()"
   ]
  },
  {
   "cell_type": "code",
   "execution_count": 6,
   "metadata": {
    "colab": {
     "base_uri": "https://localhost:8080/",
     "height": 204
    },
    "executionInfo": {
     "elapsed": 280,
     "status": "ok",
     "timestamp": 1633569484016,
     "user": {
      "displayName": "orlando belli",
      "photoUrl": "https://lh3.googleusercontent.com/a-/AOh14GjEYipEc8UYvi9I0KWDDIN3LXw_BByHVyiM2iLBKQ=s64",
      "userId": "16331666692442260184"
     },
     "user_tz": 300
    },
    "id": "TPMiB4Z-NNB4",
    "outputId": "1b37470a-2170-42d4-fb6f-f3fadfa1096b"
   },
   "outputs": [
    {
     "data": {
      "text/html": [
       "<div>\n",
       "<style scoped>\n",
       "    .dataframe tbody tr th:only-of-type {\n",
       "        vertical-align: middle;\n",
       "    }\n",
       "\n",
       "    .dataframe tbody tr th {\n",
       "        vertical-align: top;\n",
       "    }\n",
       "\n",
       "    .dataframe thead th {\n",
       "        text-align: right;\n",
       "    }\n",
       "</style>\n",
       "<table border=\"1\" class=\"dataframe\">\n",
       "  <thead>\n",
       "    <tr style=\"text-align: right;\">\n",
       "      <th></th>\n",
       "      <th>activo_id</th>\n",
       "      <th>ciclo</th>\n",
       "      <th>s1</th>\n",
       "      <th>s2</th>\n",
       "      <th>s3</th>\n",
       "      <th>s4</th>\n",
       "      <th>s5</th>\n",
       "      <th>s6</th>\n",
       "      <th>s7</th>\n",
       "      <th>s8</th>\n",
       "      <th>...</th>\n",
       "      <th>s12</th>\n",
       "      <th>s13</th>\n",
       "      <th>s14</th>\n",
       "      <th>s15</th>\n",
       "      <th>s16</th>\n",
       "      <th>s17</th>\n",
       "      <th>s18</th>\n",
       "      <th>s19</th>\n",
       "      <th>s20</th>\n",
       "      <th>s21</th>\n",
       "    </tr>\n",
       "  </thead>\n",
       "  <tbody>\n",
       "    <tr>\n",
       "      <th>0</th>\n",
       "      <td>1</td>\n",
       "      <td>1</td>\n",
       "      <td>518.67</td>\n",
       "      <td>642.36</td>\n",
       "      <td>1583.23</td>\n",
       "      <td>1396.84</td>\n",
       "      <td>14.62</td>\n",
       "      <td>21.61</td>\n",
       "      <td>553.97</td>\n",
       "      <td>2387.96</td>\n",
       "      <td>...</td>\n",
       "      <td>522.31</td>\n",
       "      <td>2388.01</td>\n",
       "      <td>8145.32</td>\n",
       "      <td>8.4246</td>\n",
       "      <td>0.03</td>\n",
       "      <td>391</td>\n",
       "      <td>2388</td>\n",
       "      <td>100</td>\n",
       "      <td>39.11</td>\n",
       "      <td>23.3537</td>\n",
       "    </tr>\n",
       "    <tr>\n",
       "      <th>1</th>\n",
       "      <td>1</td>\n",
       "      <td>2</td>\n",
       "      <td>518.67</td>\n",
       "      <td>642.50</td>\n",
       "      <td>1584.69</td>\n",
       "      <td>1396.89</td>\n",
       "      <td>14.62</td>\n",
       "      <td>21.61</td>\n",
       "      <td>554.55</td>\n",
       "      <td>2388.00</td>\n",
       "      <td>...</td>\n",
       "      <td>522.42</td>\n",
       "      <td>2388.03</td>\n",
       "      <td>8152.85</td>\n",
       "      <td>8.4403</td>\n",
       "      <td>0.03</td>\n",
       "      <td>392</td>\n",
       "      <td>2388</td>\n",
       "      <td>100</td>\n",
       "      <td>38.99</td>\n",
       "      <td>23.4491</td>\n",
       "    </tr>\n",
       "    <tr>\n",
       "      <th>2</th>\n",
       "      <td>1</td>\n",
       "      <td>3</td>\n",
       "      <td>518.67</td>\n",
       "      <td>642.18</td>\n",
       "      <td>1582.35</td>\n",
       "      <td>1405.61</td>\n",
       "      <td>14.62</td>\n",
       "      <td>21.61</td>\n",
       "      <td>554.43</td>\n",
       "      <td>2388.03</td>\n",
       "      <td>...</td>\n",
       "      <td>522.03</td>\n",
       "      <td>2388.00</td>\n",
       "      <td>8150.17</td>\n",
       "      <td>8.3901</td>\n",
       "      <td>0.03</td>\n",
       "      <td>391</td>\n",
       "      <td>2388</td>\n",
       "      <td>100</td>\n",
       "      <td>38.85</td>\n",
       "      <td>23.3669</td>\n",
       "    </tr>\n",
       "    <tr>\n",
       "      <th>3</th>\n",
       "      <td>1</td>\n",
       "      <td>4</td>\n",
       "      <td>518.67</td>\n",
       "      <td>642.92</td>\n",
       "      <td>1585.61</td>\n",
       "      <td>1392.27</td>\n",
       "      <td>14.62</td>\n",
       "      <td>21.61</td>\n",
       "      <td>555.21</td>\n",
       "      <td>2388.00</td>\n",
       "      <td>...</td>\n",
       "      <td>522.49</td>\n",
       "      <td>2388.08</td>\n",
       "      <td>8146.56</td>\n",
       "      <td>8.3878</td>\n",
       "      <td>0.03</td>\n",
       "      <td>392</td>\n",
       "      <td>2388</td>\n",
       "      <td>100</td>\n",
       "      <td>38.96</td>\n",
       "      <td>23.2951</td>\n",
       "    </tr>\n",
       "    <tr>\n",
       "      <th>4</th>\n",
       "      <td>1</td>\n",
       "      <td>5</td>\n",
       "      <td>518.67</td>\n",
       "      <td>641.68</td>\n",
       "      <td>1588.63</td>\n",
       "      <td>1397.65</td>\n",
       "      <td>14.62</td>\n",
       "      <td>21.61</td>\n",
       "      <td>554.74</td>\n",
       "      <td>2388.04</td>\n",
       "      <td>...</td>\n",
       "      <td>522.58</td>\n",
       "      <td>2388.03</td>\n",
       "      <td>8147.80</td>\n",
       "      <td>8.3869</td>\n",
       "      <td>0.03</td>\n",
       "      <td>392</td>\n",
       "      <td>2388</td>\n",
       "      <td>100</td>\n",
       "      <td>39.14</td>\n",
       "      <td>23.4583</td>\n",
       "    </tr>\n",
       "  </tbody>\n",
       "</table>\n",
       "<p>5 rows × 23 columns</p>\n",
       "</div>"
      ],
      "text/plain": [
       "   activo_id  ciclo      s1      s2       s3       s4     s5     s6      s7  \\\n",
       "0          1      1  518.67  642.36  1583.23  1396.84  14.62  21.61  553.97   \n",
       "1          1      2  518.67  642.50  1584.69  1396.89  14.62  21.61  554.55   \n",
       "2          1      3  518.67  642.18  1582.35  1405.61  14.62  21.61  554.43   \n",
       "3          1      4  518.67  642.92  1585.61  1392.27  14.62  21.61  555.21   \n",
       "4          1      5  518.67  641.68  1588.63  1397.65  14.62  21.61  554.74   \n",
       "\n",
       "        s8  ...     s12      s13      s14     s15   s16  s17   s18  s19  \\\n",
       "0  2387.96  ...  522.31  2388.01  8145.32  8.4246  0.03  391  2388  100   \n",
       "1  2388.00  ...  522.42  2388.03  8152.85  8.4403  0.03  392  2388  100   \n",
       "2  2388.03  ...  522.03  2388.00  8150.17  8.3901  0.03  391  2388  100   \n",
       "3  2388.00  ...  522.49  2388.08  8146.56  8.3878  0.03  392  2388  100   \n",
       "4  2388.04  ...  522.58  2388.03  8147.80  8.3869  0.03  392  2388  100   \n",
       "\n",
       "     s20      s21  \n",
       "0  39.11  23.3537  \n",
       "1  38.99  23.4491  \n",
       "2  38.85  23.3669  \n",
       "3  38.96  23.2951  \n",
       "4  39.14  23.4583  \n",
       "\n",
       "[5 rows x 23 columns]"
      ]
     },
     "execution_count": 6,
     "metadata": {},
     "output_type": "execute_result"
    }
   ],
   "source": [
    "# si se desea borrar alguna o varias columnas seguir lo siguiente\n",
    "\n",
    "dataset = dataset.drop(columns=['os1','os2','os3'],axis = 1)\n",
    "dataset.head()"
   ]
  },
  {
   "cell_type": "markdown",
   "metadata": {
    "id": "L2PYYVj4VoN0"
   },
   "source": [
    "Aqui obtenemos los máximos ciclos por activo"
   ]
  },
  {
   "cell_type": "code",
   "execution_count": 7,
   "metadata": {
    "colab": {
     "base_uri": "https://localhost:8080/",
     "height": 204
    },
    "executionInfo": {
     "elapsed": 10,
     "status": "ok",
     "timestamp": 1633569679504,
     "user": {
      "displayName": "orlando belli",
      "photoUrl": "https://lh3.googleusercontent.com/a-/AOh14GjEYipEc8UYvi9I0KWDDIN3LXw_BByHVyiM2iLBKQ=s64",
      "userId": "16331666692442260184"
     },
     "user_tz": 300
    },
    "id": "2_ts-1peEylt",
    "outputId": "5dbc5bfc-f77c-4f45-ce8c-017a35936a35"
   },
   "outputs": [
    {
     "data": {
      "text/html": [
       "<div>\n",
       "<style scoped>\n",
       "    .dataframe tbody tr th:only-of-type {\n",
       "        vertical-align: middle;\n",
       "    }\n",
       "\n",
       "    .dataframe tbody tr th {\n",
       "        vertical-align: top;\n",
       "    }\n",
       "\n",
       "    .dataframe thead th {\n",
       "        text-align: right;\n",
       "    }\n",
       "</style>\n",
       "<table border=\"1\" class=\"dataframe\">\n",
       "  <thead>\n",
       "    <tr style=\"text-align: right;\">\n",
       "      <th></th>\n",
       "      <th>activo_id</th>\n",
       "      <th>ciclo_max</th>\n",
       "    </tr>\n",
       "  </thead>\n",
       "  <tbody>\n",
       "    <tr>\n",
       "      <th>0</th>\n",
       "      <td>1</td>\n",
       "      <td>259</td>\n",
       "    </tr>\n",
       "    <tr>\n",
       "      <th>1</th>\n",
       "      <td>2</td>\n",
       "      <td>253</td>\n",
       "    </tr>\n",
       "    <tr>\n",
       "      <th>2</th>\n",
       "      <td>3</td>\n",
       "      <td>222</td>\n",
       "    </tr>\n",
       "    <tr>\n",
       "      <th>3</th>\n",
       "      <td>4</td>\n",
       "      <td>272</td>\n",
       "    </tr>\n",
       "    <tr>\n",
       "      <th>4</th>\n",
       "      <td>5</td>\n",
       "      <td>213</td>\n",
       "    </tr>\n",
       "  </tbody>\n",
       "</table>\n",
       "</div>"
      ],
      "text/plain": [
       "   activo_id  ciclo_max\n",
       "0          1        259\n",
       "1          2        253\n",
       "2          3        222\n",
       "3          4        272\n",
       "4          5        213"
      ]
     },
     "execution_count": 7,
     "metadata": {},
     "output_type": "execute_result"
    }
   ],
   "source": [
    "# tabla de maximos\n",
    "\n",
    "max = dataset.groupby('activo_id').agg({'ciclo':'max'}).reset_index()\n",
    "max.columns =['activo_id','ciclo_max']\n",
    "max.head()"
   ]
  },
  {
   "cell_type": "code",
   "execution_count": 8,
   "metadata": {
    "executionInfo": {
     "elapsed": 272,
     "status": "ok",
     "timestamp": 1633569806275,
     "user": {
      "displayName": "orlando belli",
      "photoUrl": "https://lh3.googleusercontent.com/a-/AOh14GjEYipEc8UYvi9I0KWDDIN3LXw_BByHVyiM2iLBKQ=s64",
      "userId": "16331666692442260184"
     },
     "user_tz": 300
    },
    "id": "Yp4VeHfu12FS"
   },
   "outputs": [],
   "source": [
    "freq = np.histogram(max.ciclo_max, 6)\n",
    "frecuencias = freq[0]"
   ]
  },
  {
   "cell_type": "code",
   "execution_count": 9,
   "metadata": {
    "colab": {
     "base_uri": "https://localhost:8080/"
    },
    "executionInfo": {
     "elapsed": 411,
     "status": "ok",
     "timestamp": 1633569811699,
     "user": {
      "displayName": "orlando belli",
      "photoUrl": "https://lh3.googleusercontent.com/a-/AOh14GjEYipEc8UYvi9I0KWDDIN3LXw_BByHVyiM2iLBKQ=s64",
      "userId": "16331666692442260184"
     },
     "user_tz": 300
    },
    "id": "cRopwExp1-Fv",
    "outputId": "1cd9d870-1399-4b04-d511-b4e805be5ed7"
   },
   "outputs": [
    {
     "data": {
      "text/plain": [
       "(array([45, 27, 14,  5,  5,  4], dtype=int64),\n",
       " array([145.        , 208.33333333, 271.66666667, 335.        ,\n",
       "        398.33333333, 461.66666667, 525.        ]))"
      ]
     },
     "execution_count": 9,
     "metadata": {},
     "output_type": "execute_result"
    }
   ],
   "source": [
    "freq"
   ]
  },
  {
   "cell_type": "code",
   "execution_count": 10,
   "metadata": {
    "colab": {
     "base_uri": "https://localhost:8080/",
     "height": 265
    },
    "executionInfo": {
     "elapsed": 364,
     "status": "ok",
     "timestamp": 1633569882818,
     "user": {
      "displayName": "orlando belli",
      "photoUrl": "https://lh3.googleusercontent.com/a-/AOh14GjEYipEc8UYvi9I0KWDDIN3LXw_BByHVyiM2iLBKQ=s64",
      "userId": "16331666692442260184"
     },
     "user_tz": 300
    },
    "id": "sEg6Alok2F0w",
    "outputId": "7d0efa52-4515-4fe8-b593-8220eae0ba7c"
   },
   "outputs": [
    {
     "data": {
      "image/png": "[encoded data removed]",
      "text/plain": [
       "<Figure size 432x288 with 1 Axes>"
      ]
     },
     "metadata": {
      "needs_background": "light"
     },
     "output_type": "display_data"
    }
   ],
   "source": [
    "plt.hist(max.ciclo_max,bins = 6,edgecolor='k')\n",
    "plt.show()"
   ]
  },
  {
   "cell_type": "code",
   "execution_count": 11,
   "metadata": {
    "executionInfo": {
     "elapsed": 588,
     "status": "ok",
     "timestamp": 1633569933865,
     "user": {
      "displayName": "orlando belli",
      "photoUrl": "https://lh3.googleusercontent.com/a-/AOh14GjEYipEc8UYvi9I0KWDDIN3LXw_BByHVyiM2iLBKQ=s64",
      "userId": "16331666692442260184"
     },
     "user_tz": 300
    },
    "id": "qjyt4K-XFTJd"
   },
   "outputs": [],
   "source": [
    "# cruzamos tablas\n",
    "\n",
    "df = pd.merge(dataset,max, how = 'inner', on ='activo_id' )"
   ]
  },
  {
   "cell_type": "code",
   "execution_count": 12,
   "metadata": {
    "colab": {
     "base_uri": "https://localhost:8080/",
     "height": 224
    },
    "executionInfo": {
     "elapsed": 277,
     "status": "ok",
     "timestamp": 1633569953145,
     "user": {
      "displayName": "orlando belli",
      "photoUrl": "https://lh3.googleusercontent.com/a-/AOh14GjEYipEc8UYvi9I0KWDDIN3LXw_BByHVyiM2iLBKQ=s64",
      "userId": "16331666692442260184"
     },
     "user_tz": 300
    },
    "id": "0V_BITKBFnZM",
    "outputId": "f99f7f7f-6015-41e3-af55-78a2fc440165"
   },
   "outputs": [
    {
     "data": {
      "text/html": [
       "<div>\n",
       "<style scoped>\n",
       "    .dataframe tbody tr th:only-of-type {\n",
       "        vertical-align: middle;\n",
       "    }\n",
       "\n",
       "    .dataframe tbody tr th {\n",
       "        vertical-align: top;\n",
       "    }\n",
       "\n",
       "    .dataframe thead th {\n",
       "        text-align: right;\n",
       "    }\n",
       "</style>\n",
       "<table border=\"1\" class=\"dataframe\">\n",
       "  <thead>\n",
       "    <tr style=\"text-align: right;\">\n",
       "      <th></th>\n",
       "      <th>activo_id</th>\n",
       "      <th>ciclo</th>\n",
       "      <th>s1</th>\n",
       "      <th>s2</th>\n",
       "      <th>s3</th>\n",
       "      <th>s4</th>\n",
       "      <th>s5</th>\n",
       "      <th>s6</th>\n",
       "      <th>s7</th>\n",
       "      <th>s8</th>\n",
       "      <th>...</th>\n",
       "      <th>s14</th>\n",
       "      <th>s15</th>\n",
       "      <th>s16</th>\n",
       "      <th>s17</th>\n",
       "      <th>s18</th>\n",
       "      <th>s19</th>\n",
       "      <th>s20</th>\n",
       "      <th>s21</th>\n",
       "      <th>ciclo_max</th>\n",
       "      <th>RUL</th>\n",
       "    </tr>\n",
       "  </thead>\n",
       "  <tbody>\n",
       "    <tr>\n",
       "      <th>0</th>\n",
       "      <td>1</td>\n",
       "      <td>1</td>\n",
       "      <td>518.67</td>\n",
       "      <td>642.36</td>\n",
       "      <td>1583.23</td>\n",
       "      <td>1396.84</td>\n",
       "      <td>14.62</td>\n",
       "      <td>21.61</td>\n",
       "      <td>553.97</td>\n",
       "      <td>2387.96</td>\n",
       "      <td>...</td>\n",
       "      <td>8145.32</td>\n",
       "      <td>8.4246</td>\n",
       "      <td>0.03</td>\n",
       "      <td>391</td>\n",
       "      <td>2388</td>\n",
       "      <td>100</td>\n",
       "      <td>39.11</td>\n",
       "      <td>23.3537</td>\n",
       "      <td>259</td>\n",
       "      <td>258</td>\n",
       "    </tr>\n",
       "    <tr>\n",
       "      <th>1</th>\n",
       "      <td>1</td>\n",
       "      <td>2</td>\n",
       "      <td>518.67</td>\n",
       "      <td>642.50</td>\n",
       "      <td>1584.69</td>\n",
       "      <td>1396.89</td>\n",
       "      <td>14.62</td>\n",
       "      <td>21.61</td>\n",
       "      <td>554.55</td>\n",
       "      <td>2388.00</td>\n",
       "      <td>...</td>\n",
       "      <td>8152.85</td>\n",
       "      <td>8.4403</td>\n",
       "      <td>0.03</td>\n",
       "      <td>392</td>\n",
       "      <td>2388</td>\n",
       "      <td>100</td>\n",
       "      <td>38.99</td>\n",
       "      <td>23.4491</td>\n",
       "      <td>259</td>\n",
       "      <td>257</td>\n",
       "    </tr>\n",
       "    <tr>\n",
       "      <th>2</th>\n",
       "      <td>1</td>\n",
       "      <td>3</td>\n",
       "      <td>518.67</td>\n",
       "      <td>642.18</td>\n",
       "      <td>1582.35</td>\n",
       "      <td>1405.61</td>\n",
       "      <td>14.62</td>\n",
       "      <td>21.61</td>\n",
       "      <td>554.43</td>\n",
       "      <td>2388.03</td>\n",
       "      <td>...</td>\n",
       "      <td>8150.17</td>\n",
       "      <td>8.3901</td>\n",
       "      <td>0.03</td>\n",
       "      <td>391</td>\n",
       "      <td>2388</td>\n",
       "      <td>100</td>\n",
       "      <td>38.85</td>\n",
       "      <td>23.3669</td>\n",
       "      <td>259</td>\n",
       "      <td>256</td>\n",
       "    </tr>\n",
       "    <tr>\n",
       "      <th>3</th>\n",
       "      <td>1</td>\n",
       "      <td>4</td>\n",
       "      <td>518.67</td>\n",
       "      <td>642.92</td>\n",
       "      <td>1585.61</td>\n",
       "      <td>1392.27</td>\n",
       "      <td>14.62</td>\n",
       "      <td>21.61</td>\n",
       "      <td>555.21</td>\n",
       "      <td>2388.00</td>\n",
       "      <td>...</td>\n",
       "      <td>8146.56</td>\n",
       "      <td>8.3878</td>\n",
       "      <td>0.03</td>\n",
       "      <td>392</td>\n",
       "      <td>2388</td>\n",
       "      <td>100</td>\n",
       "      <td>38.96</td>\n",
       "      <td>23.2951</td>\n",
       "      <td>259</td>\n",
       "      <td>255</td>\n",
       "    </tr>\n",
       "    <tr>\n",
       "      <th>4</th>\n",
       "      <td>1</td>\n",
       "      <td>5</td>\n",
       "      <td>518.67</td>\n",
       "      <td>641.68</td>\n",
       "      <td>1588.63</td>\n",
       "      <td>1397.65</td>\n",
       "      <td>14.62</td>\n",
       "      <td>21.61</td>\n",
       "      <td>554.74</td>\n",
       "      <td>2388.04</td>\n",
       "      <td>...</td>\n",
       "      <td>8147.80</td>\n",
       "      <td>8.3869</td>\n",
       "      <td>0.03</td>\n",
       "      <td>392</td>\n",
       "      <td>2388</td>\n",
       "      <td>100</td>\n",
       "      <td>39.14</td>\n",
       "      <td>23.4583</td>\n",
       "      <td>259</td>\n",
       "      <td>254</td>\n",
       "    </tr>\n",
       "  </tbody>\n",
       "</table>\n",
       "<p>5 rows × 25 columns</p>\n",
       "</div>"
      ],
      "text/plain": [
       "   activo_id  ciclo      s1      s2       s3       s4     s5     s6      s7  \\\n",
       "0          1      1  518.67  642.36  1583.23  1396.84  14.62  21.61  553.97   \n",
       "1          1      2  518.67  642.50  1584.69  1396.89  14.62  21.61  554.55   \n",
       "2          1      3  518.67  642.18  1582.35  1405.61  14.62  21.61  554.43   \n",
       "3          1      4  518.67  642.92  1585.61  1392.27  14.62  21.61  555.21   \n",
       "4          1      5  518.67  641.68  1588.63  1397.65  14.62  21.61  554.74   \n",
       "\n",
       "        s8  ...      s14     s15   s16  s17   s18  s19    s20      s21  \\\n",
       "0  2387.96  ...  8145.32  8.4246  0.03  391  2388  100  39.11  23.3537   \n",
       "1  2388.00  ...  8152.85  8.4403  0.03  392  2388  100  38.99  23.4491   \n",
       "2  2388.03  ...  8150.17  8.3901  0.03  391  2388  100  38.85  23.3669   \n",
       "3  2388.00  ...  8146.56  8.3878  0.03  392  2388  100  38.96  23.2951   \n",
       "4  2388.04  ...  8147.80  8.3869  0.03  392  2388  100  39.14  23.4583   \n",
       "\n",
       "   ciclo_max  RUL  \n",
       "0        259  258  \n",
       "1        259  257  \n",
       "2        259  256  \n",
       "3        259  255  \n",
       "4        259  254  \n",
       "\n",
       "[5 rows x 25 columns]"
      ]
     },
     "execution_count": 12,
     "metadata": {},
     "output_type": "execute_result"
    }
   ],
   "source": [
    "\n",
    "df['RUL'] = df.ciclo_max - df.ciclo\n",
    "df.head()"
   ]
  },
  {
   "cell_type": "code",
   "execution_count": 13,
   "metadata": {
    "executionInfo": {
     "elapsed": 273,
     "status": "ok",
     "timestamp": 1633569988583,
     "user": {
      "displayName": "orlando belli",
      "photoUrl": "https://lh3.googleusercontent.com/a-/AOh14GjEYipEc8UYvi9I0KWDDIN3LXw_BByHVyiM2iLBKQ=s64",
      "userId": "16331666692442260184"
     },
     "user_tz": 300
    },
    "id": "p0ZZ-c9VFz8b"
   },
   "outputs": [],
   "source": [
    "df.drop(columns=['ciclo_max'],axis = 1, inplace =True)"
   ]
  },
  {
   "cell_type": "markdown",
   "metadata": {
    "id": "-x_303oI_roY"
   },
   "source": [
    "Voy a escoger 1 turbina"
   ]
  },
  {
   "cell_type": "code",
   "execution_count": 14,
   "metadata": {
    "colab": {
     "base_uri": "https://localhost:8080/"
    },
    "executionInfo": {
     "elapsed": 273,
     "status": "ok",
     "timestamp": 1633570009561,
     "user": {
      "displayName": "orlando belli",
      "photoUrl": "https://lh3.googleusercontent.com/a-/AOh14GjEYipEc8UYvi9I0KWDDIN3LXw_BByHVyiM2iLBKQ=s64",
      "userId": "16331666692442260184"
     },
     "user_tz": 300
    },
    "id": "mR0fPlFy_vCl",
    "outputId": "664ea77d-f2e3-4305-ff6f-f0d8c5c5eb6b"
   },
   "outputs": [
    {
     "data": {
      "text/plain": [
       "(202, 24)"
      ]
     },
     "execution_count": 14,
     "metadata": {},
     "output_type": "execute_result"
    }
   ],
   "source": [
    "dataset = df.query(\"activo_id == 15\")\n",
    "dataset.shape"
   ]
  },
  {
   "cell_type": "markdown",
   "metadata": {
    "id": "NbScS3aBXHzR"
   },
   "source": [
    "Mapa de correlogramas"
   ]
  },
  {
   "cell_type": "code",
   "execution_count": 15,
   "metadata": {
    "colab": {
     "base_uri": "https://localhost:8080/",
     "height": 541
    },
    "executionInfo": {
     "elapsed": 1031,
     "status": "ok",
     "timestamp": 1633570181755,
     "user": {
      "displayName": "orlando belli",
      "photoUrl": "https://lh3.googleusercontent.com/a-/AOh14GjEYipEc8UYvi9I0KWDDIN3LXw_BByHVyiM2iLBKQ=s64",
      "userId": "16331666692442260184"
     },
     "user_tz": 300
    },
    "id": "BFj2AUYO20Wh",
    "outputId": "cd35db64-2f14-42c0-eac3-729b1dd46e14"
   },
   "outputs": [
    {
     "data": {
      "image/png": "[encoded data removed]",
      "text/plain": [
       "<Figure size 864x648 with 2 Axes>"
      ]
     },
     "metadata": {
      "needs_background": "light"
     },
     "output_type": "display_data"
    }
   ],
   "source": [
    "# Matriz de correlación:\n",
    "plt.figure(figsize=(12,9))\n",
    "\n",
    "corrmat = dataset.iloc[:,2:].corr()\n",
    "# f, ax = plt.subplots(figsize=(12, 9))\n",
    "sns.heatmap(corrmat, vmax=.8, square=True);"
   ]
  },
  {
   "cell_type": "code",
   "execution_count": 16,
   "metadata": {
    "colab": {
     "base_uri": "https://localhost:8080/",
     "height": 531
    },
    "executionInfo": {
     "elapsed": 308,
     "status": "ok",
     "timestamp": 1633570321275,
     "user": {
      "displayName": "orlando belli",
      "photoUrl": "https://lh3.googleusercontent.com/a-/AOh14GjEYipEc8UYvi9I0KWDDIN3LXw_BByHVyiM2iLBKQ=s64",
      "userId": "16331666692442260184"
     },
     "user_tz": 300
    },
    "id": "Op924Mrh3HB_",
    "outputId": "819a675d-f50f-4430-eb96-c16ba3186aec"
   },
   "outputs": [
    {
     "data": {
      "text/html": [
       "<style type=\"text/css\">\n",
       "#T_24fb2_row0_col0 {\n",
       "  background-color: #023858;\n",
       "  color: #f1f1f1;\n",
       "}\n",
       "#T_24fb2_row1_col0 {\n",
       "  background-color: #045687;\n",
       "  color: #f1f1f1;\n",
       "}\n",
       "#T_24fb2_row2_col0 {\n",
       "  background-color: #045c90;\n",
       "  color: #f1f1f1;\n",
       "}\n",
       "#T_24fb2_row3_col0 {\n",
       "  background-color: #046096;\n",
       "  color: #f1f1f1;\n",
       "}\n",
       "#T_24fb2_row4_col0 {\n",
       "  background-color: #0569a5;\n",
       "  color: #f1f1f1;\n",
       "}\n",
       "#T_24fb2_row5_col0 {\n",
       "  background-color: #dad9ea;\n",
       "  color: #000000;\n",
       "}\n",
       "#T_24fb2_row6_col0 {\n",
       "  background-color: #dcdaeb;\n",
       "  color: #000000;\n",
       "}\n",
       "#T_24fb2_row7_col0 {\n",
       "  background-color: #e0dded;\n",
       "  color: #000000;\n",
       "}\n",
       "#T_24fb2_row8_col0 {\n",
       "  background-color: #e3e0ee;\n",
       "  color: #000000;\n",
       "}\n",
       "#T_24fb2_row9_col0 {\n",
       "  background-color: #e6e2ef;\n",
       "  color: #000000;\n",
       "}\n",
       "#T_24fb2_row10_col0, #T_24fb2_row11_col0, #T_24fb2_row12_col0 {\n",
       "  background-color: #e7e3f0;\n",
       "  color: #000000;\n",
       "}\n",
       "#T_24fb2_row13_col0 {\n",
       "  background-color: #eee9f3;\n",
       "  color: #000000;\n",
       "}\n",
       "#T_24fb2_row14_col0 {\n",
       "  background-color: #efe9f3;\n",
       "  color: #000000;\n",
       "}\n",
       "#T_24fb2_row15_col0 {\n",
       "  background-color: #fff7fb;\n",
       "  color: #000000;\n",
       "}\n",
       "#T_24fb2_row16_col0, #T_24fb2_row17_col0, #T_24fb2_row18_col0, #T_24fb2_row19_col0, #T_24fb2_row20_col0, #T_24fb2_row21_col0, #T_24fb2_row22_col0, #T_24fb2_row23_col0 {\n",
       "  background-color: #000000;\n",
       "  color: #f1f1f1;\n",
       "}\n",
       "</style>\n",
       "<table id=\"T_24fb2\">\n",
       "  <thead>\n",
       "    <tr>\n",
       "      <th class=\"blank level0\" >&nbsp;</th>\n",
       "      <th id=\"T_24fb2_level0_col0\" class=\"col_heading level0 col0\" >RUL</th>\n",
       "    </tr>\n",
       "  </thead>\n",
       "  <tbody>\n",
       "    <tr>\n",
       "      <th id=\"T_24fb2_level0_row0\" class=\"row_heading level0 row0\" >RUL</th>\n",
       "      <td id=\"T_24fb2_row0_col0\" class=\"data row0 col0\" >1.000000</td>\n",
       "    </tr>\n",
       "    <tr>\n",
       "      <th id=\"T_24fb2_level0_row1\" class=\"row_heading level0 row1\" >s12</th>\n",
       "      <td id=\"T_24fb2_row1_col0\" class=\"data row1 col0\" >0.777035</td>\n",
       "    </tr>\n",
       "    <tr>\n",
       "      <th id=\"T_24fb2_level0_row2\" class=\"row_heading level0 row2\" >s7</th>\n",
       "      <td id=\"T_24fb2_row2_col0\" class=\"data row2 col0\" >0.725885</td>\n",
       "    </tr>\n",
       "    <tr>\n",
       "      <th id=\"T_24fb2_level0_row3\" class=\"row_heading level0 row3\" >s21</th>\n",
       "      <td id=\"T_24fb2_row3_col0\" class=\"data row3 col0\" >0.685319</td>\n",
       "    </tr>\n",
       "    <tr>\n",
       "      <th id=\"T_24fb2_level0_row4\" class=\"row_heading level0 row4\" >s20</th>\n",
       "      <td id=\"T_24fb2_row4_col0\" class=\"data row4 col0\" >0.575924</td>\n",
       "    </tr>\n",
       "    <tr>\n",
       "      <th id=\"T_24fb2_level0_row5\" class=\"row_heading level0 row5\" >s3</th>\n",
       "      <td id=\"T_24fb2_row5_col0\" class=\"data row5 col0\" >-0.590478</td>\n",
       "    </tr>\n",
       "    <tr>\n",
       "      <th id=\"T_24fb2_level0_row6\" class=\"row_heading level0 row6\" >s17</th>\n",
       "      <td id=\"T_24fb2_row6_col0\" class=\"data row6 col0\" >-0.603371</td>\n",
       "    </tr>\n",
       "    <tr>\n",
       "      <th id=\"T_24fb2_level0_row7\" class=\"row_heading level0 row7\" >s2</th>\n",
       "      <td id=\"T_24fb2_row7_col0\" class=\"data row7 col0\" >-0.633003</td>\n",
       "    </tr>\n",
       "    <tr>\n",
       "      <th id=\"T_24fb2_level0_row8\" class=\"row_heading level0 row8\" >s14</th>\n",
       "      <td id=\"T_24fb2_row8_col0\" class=\"data row8 col0\" >-0.665495</td>\n",
       "    </tr>\n",
       "    <tr>\n",
       "      <th id=\"T_24fb2_level0_row9\" class=\"row_heading level0 row9\" >s15</th>\n",
       "      <td id=\"T_24fb2_row9_col0\" class=\"data row9 col0\" >-0.690792</td>\n",
       "    </tr>\n",
       "    <tr>\n",
       "      <th id=\"T_24fb2_level0_row10\" class=\"row_heading level0 row10\" >s13</th>\n",
       "      <td id=\"T_24fb2_row10_col0\" class=\"data row10 col0\" >-0.699546</td>\n",
       "    </tr>\n",
       "    <tr>\n",
       "      <th id=\"T_24fb2_level0_row11\" class=\"row_heading level0 row11\" >s4</th>\n",
       "      <td id=\"T_24fb2_row11_col0\" class=\"data row11 col0\" >-0.701615</td>\n",
       "    </tr>\n",
       "    <tr>\n",
       "      <th id=\"T_24fb2_level0_row12\" class=\"row_heading level0 row12\" >s8</th>\n",
       "      <td id=\"T_24fb2_row12_col0\" class=\"data row12 col0\" >-0.708496</td>\n",
       "    </tr>\n",
       "    <tr>\n",
       "      <th id=\"T_24fb2_level0_row13\" class=\"row_heading level0 row13\" >s9</th>\n",
       "      <td id=\"T_24fb2_row13_col0\" class=\"data row13 col0\" >-0.775561</td>\n",
       "    </tr>\n",
       "    <tr>\n",
       "      <th id=\"T_24fb2_level0_row14\" class=\"row_heading level0 row14\" >s11</th>\n",
       "      <td id=\"T_24fb2_row14_col0\" class=\"data row14 col0\" >-0.781674</td>\n",
       "    </tr>\n",
       "    <tr>\n",
       "      <th id=\"T_24fb2_level0_row15\" class=\"row_heading level0 row15\" >ciclo</th>\n",
       "      <td id=\"T_24fb2_row15_col0\" class=\"data row15 col0\" >-1.000000</td>\n",
       "    </tr>\n",
       "    <tr>\n",
       "      <th id=\"T_24fb2_level0_row16\" class=\"row_heading level0 row16\" >activo_id</th>\n",
       "      <td id=\"T_24fb2_row16_col0\" class=\"data row16 col0\" >nan</td>\n",
       "    </tr>\n",
       "    <tr>\n",
       "      <th id=\"T_24fb2_level0_row17\" class=\"row_heading level0 row17\" >s1</th>\n",
       "      <td id=\"T_24fb2_row17_col0\" class=\"data row17 col0\" >nan</td>\n",
       "    </tr>\n",
       "    <tr>\n",
       "      <th id=\"T_24fb2_level0_row18\" class=\"row_heading level0 row18\" >s5</th>\n",
       "      <td id=\"T_24fb2_row18_col0\" class=\"data row18 col0\" >nan</td>\n",
       "    </tr>\n",
       "    <tr>\n",
       "      <th id=\"T_24fb2_level0_row19\" class=\"row_heading level0 row19\" >s6</th>\n",
       "      <td id=\"T_24fb2_row19_col0\" class=\"data row19 col0\" >nan</td>\n",
       "    </tr>\n",
       "    <tr>\n",
       "      <th id=\"T_24fb2_level0_row20\" class=\"row_heading level0 row20\" >s10</th>\n",
       "      <td id=\"T_24fb2_row20_col0\" class=\"data row20 col0\" >nan</td>\n",
       "    </tr>\n",
       "    <tr>\n",
       "      <th id=\"T_24fb2_level0_row21\" class=\"row_heading level0 row21\" >s16</th>\n",
       "      <td id=\"T_24fb2_row21_col0\" class=\"data row21 col0\" >nan</td>\n",
       "    </tr>\n",
       "    <tr>\n",
       "      <th id=\"T_24fb2_level0_row22\" class=\"row_heading level0 row22\" >s18</th>\n",
       "      <td id=\"T_24fb2_row22_col0\" class=\"data row22 col0\" >nan</td>\n",
       "    </tr>\n",
       "    <tr>\n",
       "      <th id=\"T_24fb2_level0_row23\" class=\"row_heading level0 row23\" >s19</th>\n",
       "      <td id=\"T_24fb2_row23_col0\" class=\"data row23 col0\" >nan</td>\n",
       "    </tr>\n",
       "  </tbody>\n",
       "</table>\n"
      ],
      "text/plain": [
       "<pandas.io.formats.style.Styler at 0x285777d9ac0>"
      ]
     },
     "execution_count": 16,
     "metadata": {},
     "output_type": "execute_result"
    }
   ],
   "source": [
    "corr = dataset.corr()\n",
    "corr[['RUL']].sort_values(by = 'RUL',ascending = False).style.background_gradient()"
   ]
  },
  {
   "cell_type": "code",
   "execution_count": 17,
   "metadata": {
    "colab": {
     "base_uri": "https://localhost:8080/",
     "height": 956
    },
    "executionInfo": {
     "elapsed": 11006,
     "status": "ok",
     "timestamp": 1633570544411,
     "user": {
      "displayName": "orlando belli",
      "photoUrl": "https://lh3.googleusercontent.com/a-/AOh14GjEYipEc8UYvi9I0KWDDIN3LXw_BByHVyiM2iLBKQ=s64",
      "userId": "16331666692442260184"
     },
     "user_tz": 300
    },
    "id": "_CAa06u3CHQy",
    "outputId": "0aee1778-be3d-4df3-a4a0-6abac5779121"
   },
   "outputs": [
    {
     "name": "stderr",
     "output_type": "stream",
     "text": [
      "C:\\Users\\RAKU\\.conda\\envs\\DataScientist\\lib\\site-packages\\seaborn\\axisgrid.py:2076: UserWarning: The `size` parameter has been renamed to `height`; please update your code.\n",
      "  warnings.warn(msg, UserWarning)\n"
     ]
    },
    {
     "data": {
      "text/plain": [
       "<seaborn.axisgrid.PairGrid at 0x2857593e490>"
      ]
     },
     "execution_count": 17,
     "metadata": {},
     "output_type": "execute_result"
    },
    {
     "data": {
      "image/png": "[encoded data removed]",
      "text/plain": [
       "<Figure size 900x900 with 30 Axes>"
      ]
     },
     "metadata": {
      "needs_background": "light"
     },
     "output_type": "display_data"
    }
   ],
   "source": [
    "sns.pairplot(dataset.loc[:,['s7','s12','s21','s20','RUL']],size=2.5)"
   ]
  },
  {
   "cell_type": "markdown",
   "metadata": {
    "id": "AiUJOIJJMxM5"
   },
   "source": [
    "Paso 1 Seleccional la matriz de características"
   ]
  },
  {
   "cell_type": "code",
   "execution_count": 18,
   "metadata": {
    "executionInfo": {
     "elapsed": 266,
     "status": "ok",
     "timestamp": 1633570682151,
     "user": {
      "displayName": "orlando belli",
      "photoUrl": "https://lh3.googleusercontent.com/a-/AOh14GjEYipEc8UYvi9I0KWDDIN3LXw_BByHVyiM2iLBKQ=s64",
      "userId": "16331666692442260184"
     },
     "user_tz": 300
    },
    "id": "KSSAujTm3ktG"
   },
   "outputs": [],
   "source": [
    "# selecciono las variables\n",
    "\n",
    "X = dataset.loc[:, ['s7','s12','s21','s20']].values # me refiero a los sensores del mismo nombre\n",
    "y = dataset.iloc[:, -1].values  # me refiero al RUL"
   ]
  },
  {
   "cell_type": "markdown",
   "metadata": {
    "id": "gVatmMs9OFLg"
   },
   "source": [
    "train_test_split"
   ]
  },
  {
   "cell_type": "code",
   "execution_count": 19,
   "metadata": {
    "colab": {
     "base_uri": "https://localhost:8080/"
    },
    "executionInfo": {
     "elapsed": 259,
     "status": "ok",
     "timestamp": 1633570734351,
     "user": {
      "displayName": "orlando belli",
      "photoUrl": "https://lh3.googleusercontent.com/a-/AOh14GjEYipEc8UYvi9I0KWDDIN3LXw_BByHVyiM2iLBKQ=s64",
      "userId": "16331666692442260184"
     },
     "user_tz": 300
    },
    "id": "csOTrQpl9JMn",
    "outputId": "a8b03600-9084-4523-e76c-65730e7785b6"
   },
   "outputs": [
    {
     "data": {
      "text/plain": [
       "((161, 4), (41, 4))"
      ]
     },
     "execution_count": 19,
     "metadata": {},
     "output_type": "execute_result"
    }
   ],
   "source": [
    "# Dividir el data set en conjunto de entrenamiento y conjunto de testing\n",
    "from sklearn.model_selection import train_test_split\n",
    "X_train, X_test, y_train, y_test = train_test_split(X, y, test_size = 0.2, random_state = 0)\n",
    "X_train.shape, X_test.shape"
   ]
  },
  {
   "cell_type": "markdown",
   "metadata": {
    "id": "3uoVvyY1bAT_"
   },
   "source": [
    "Creación del modelo"
   ]
  },
  {
   "cell_type": "code",
   "execution_count": 20,
   "metadata": {
    "colab": {
     "base_uri": "https://localhost:8080/"
    },
    "executionInfo": {
     "elapsed": 287,
     "status": "ok",
     "timestamp": 1633570787418,
     "user": {
      "displayName": "orlando belli",
      "photoUrl": "https://lh3.googleusercontent.com/a-/AOh14GjEYipEc8UYvi9I0KWDDIN3LXw_BByHVyiM2iLBKQ=s64",
      "userId": "16331666692442260184"
     },
     "user_tz": 300
    },
    "id": "QGYqX_aq9QKr",
    "outputId": "685dc32e-daa2-4fa8-f055-9e1c266e222a"
   },
   "outputs": [
    {
     "data": {
      "text/plain": [
       "LinearRegression()"
      ]
     },
     "execution_count": 20,
     "metadata": {},
     "output_type": "execute_result"
    }
   ],
   "source": [
    "# Ajustar el modelo de Regresión lineal múltiple con el conjunto de entrenamiento\n",
    "\n",
    "from sklearn.linear_model import LinearRegression\n",
    "regression = LinearRegression()\n",
    "regression.fit(X_train, y_train)"
   ]
  },
  {
   "cell_type": "code",
   "execution_count": 21,
   "metadata": {
    "executionInfo": {
     "elapsed": 276,
     "status": "ok",
     "timestamp": 1633570801976,
     "user": {
      "displayName": "orlando belli",
      "photoUrl": "https://lh3.googleusercontent.com/a-/AOh14GjEYipEc8UYvi9I0KWDDIN3LXw_BByHVyiM2iLBKQ=s64",
      "userId": "16331666692442260184"
     },
     "user_tz": 300
    },
    "id": "JK0RSJK89Tgs"
   },
   "outputs": [],
   "source": [
    "# Predicción de los resultados en el conjunto de testing\n",
    "\n",
    "y_pred = regression.predict(X_test)"
   ]
  },
  {
   "cell_type": "code",
   "execution_count": 22,
   "metadata": {
    "colab": {
     "base_uri": "https://localhost:8080/"
    },
    "executionInfo": {
     "elapsed": 262,
     "status": "ok",
     "timestamp": 1633570806980,
     "user": {
      "displayName": "orlando belli",
      "photoUrl": "https://lh3.googleusercontent.com/a-/AOh14GjEYipEc8UYvi9I0KWDDIN3LXw_BByHVyiM2iLBKQ=s64",
      "userId": "16331666692442260184"
     },
     "user_tz": 300
    },
    "id": "8pa_blZWOfmY",
    "outputId": "1fbd0509-3df5-4a8c-dc2c-60f0a00ec2eb"
   },
   "outputs": [
    {
     "data": {
      "text/plain": [
       "0.7231585599988537"
      ]
     },
     "execution_count": 22,
     "metadata": {},
     "output_type": "execute_result"
    }
   ],
   "source": [
    "# verificar el score del modelo\n",
    "\n",
    "regression.score(X_test,y_test)"
   ]
  },
  {
   "cell_type": "markdown",
   "metadata": {
    "id": "f3RqkObYKGbh"
   },
   "source": [
    "# Gráfica la data real vs la y_pred"
   ]
  },
  {
   "cell_type": "code",
   "execution_count": 23,
   "metadata": {
    "colab": {
     "base_uri": "https://localhost:8080/",
     "height": 298
    },
    "executionInfo": {
     "elapsed": 572,
     "status": "ok",
     "timestamp": 1633570854422,
     "user": {
      "displayName": "orlando belli",
      "photoUrl": "https://lh3.googleusercontent.com/a-/AOh14GjEYipEc8UYvi9I0KWDDIN3LXw_BByHVyiM2iLBKQ=s64",
      "userId": "16331666692442260184"
     },
     "user_tz": 300
    },
    "id": "GtxO2wah9eep",
    "outputId": "b8f9ee9a-cef6-43c9-e254-f48f8e76bfde"
   },
   "outputs": [
    {
     "data": {
      "text/plain": [
       "Text(0.5, 1.0, 'Relación lineal entre valores reales y predichos')"
      ]
     },
     "execution_count": 23,
     "metadata": {},
     "output_type": "execute_result"
    },
    {
     "data": {
      "image/png": "[encoded data removed]",
      "text/plain": [
       "<Figure size 432x288 with 1 Axes>"
      ]
     },
     "metadata": {
      "needs_background": "light"
     },
     "output_type": "display_data"
    }
   ],
   "source": [
    "# comparar y_test vs y_pred\n",
    "\n",
    "plt.scatter(y_test,y_pred)\n",
    "plt.title('Relación lineal entre valores reales y predichos')"
   ]
  },
  {
   "cell_type": "code",
   "execution_count": 24,
   "metadata": {
    "executionInfo": {
     "elapsed": 253,
     "status": "ok",
     "timestamp": 1633570884495,
     "user": {
      "displayName": "orlando belli",
      "photoUrl": "https://lh3.googleusercontent.com/a-/AOh14GjEYipEc8UYvi9I0KWDDIN3LXw_BByHVyiM2iLBKQ=s64",
      "userId": "16331666692442260184"
     },
     "user_tz": 300
    },
    "id": "Zc2O0MQ6AK7x"
   },
   "outputs": [],
   "source": [
    "# transformar arrays en vector columna\n",
    "\n",
    "a = y_test.reshape(-1,1)\n",
    "b = y_pred.reshape(-1,1)"
   ]
  },
  {
   "cell_type": "code",
   "execution_count": 25,
   "metadata": {
    "executionInfo": {
     "elapsed": 269,
     "status": "ok",
     "timestamp": 1633570888095,
     "user": {
      "displayName": "orlando belli",
      "photoUrl": "https://lh3.googleusercontent.com/a-/AOh14GjEYipEc8UYvi9I0KWDDIN3LXw_BByHVyiM2iLBKQ=s64",
      "userId": "16331666692442260184"
     },
     "user_tz": 300
    },
    "id": "IKV6xnB8CEYY"
   },
   "outputs": [],
   "source": [
    "# concatenamos los vectores en un solo dataset\n",
    "c = np.concatenate([a,b],axis=1)"
   ]
  },
  {
   "cell_type": "code",
   "execution_count": 26,
   "metadata": {
    "colab": {
     "base_uri": "https://localhost:8080/",
     "height": 204
    },
    "executionInfo": {
     "elapsed": 272,
     "status": "ok",
     "timestamp": 1633570889720,
     "user": {
      "displayName": "orlando belli",
      "photoUrl": "https://lh3.googleusercontent.com/a-/AOh14GjEYipEc8UYvi9I0KWDDIN3LXw_BByHVyiM2iLBKQ=s64",
      "userId": "16331666692442260184"
     },
     "user_tz": 300
    },
    "id": "cwHNCt2T5sux",
    "outputId": "619a4c36-cebc-45e0-9ce1-ed264fffc4f8"
   },
   "outputs": [
    {
     "data": {
      "text/html": [
       "<div>\n",
       "<style scoped>\n",
       "    .dataframe tbody tr th:only-of-type {\n",
       "        vertical-align: middle;\n",
       "    }\n",
       "\n",
       "    .dataframe tbody tr th {\n",
       "        vertical-align: top;\n",
       "    }\n",
       "\n",
       "    .dataframe thead th {\n",
       "        text-align: right;\n",
       "    }\n",
       "</style>\n",
       "<table border=\"1\" class=\"dataframe\">\n",
       "  <thead>\n",
       "    <tr style=\"text-align: right;\">\n",
       "      <th></th>\n",
       "      <th>real</th>\n",
       "      <th>model</th>\n",
       "    </tr>\n",
       "  </thead>\n",
       "  <tbody>\n",
       "    <tr>\n",
       "      <th>0</th>\n",
       "      <td>183.0</td>\n",
       "      <td>103.222075</td>\n",
       "    </tr>\n",
       "    <tr>\n",
       "      <th>1</th>\n",
       "      <td>30.0</td>\n",
       "      <td>32.660658</td>\n",
       "    </tr>\n",
       "    <tr>\n",
       "      <th>2</th>\n",
       "      <td>94.0</td>\n",
       "      <td>111.974577</td>\n",
       "    </tr>\n",
       "    <tr>\n",
       "      <th>3</th>\n",
       "      <td>103.0</td>\n",
       "      <td>107.126546</td>\n",
       "    </tr>\n",
       "    <tr>\n",
       "      <th>4</th>\n",
       "      <td>23.0</td>\n",
       "      <td>13.799070</td>\n",
       "    </tr>\n",
       "  </tbody>\n",
       "</table>\n",
       "</div>"
      ],
      "text/plain": [
       "    real       model\n",
       "0  183.0  103.222075\n",
       "1   30.0   32.660658\n",
       "2   94.0  111.974577\n",
       "3  103.0  107.126546\n",
       "4   23.0   13.799070"
      ]
     },
     "execution_count": 26,
     "metadata": {},
     "output_type": "execute_result"
    }
   ],
   "source": [
    "c= pd.DataFrame(c,columns=['real','model'])\n",
    "c.head()"
   ]
  },
  {
   "cell_type": "code",
   "execution_count": 27,
   "metadata": {
    "colab": {
     "base_uri": "https://localhost:8080/",
     "height": 111
    },
    "executionInfo": {
     "elapsed": 344,
     "status": "ok",
     "timestamp": 1633570958763,
     "user": {
      "displayName": "orlando belli",
      "photoUrl": "https://lh3.googleusercontent.com/a-/AOh14GjEYipEc8UYvi9I0KWDDIN3LXw_BByHVyiM2iLBKQ=s64",
      "userId": "16331666692442260184"
     },
     "user_tz": 300
    },
    "id": "IoD8CGs1AW83",
    "outputId": "f5e5014e-f6d9-4587-c426-016683f2a777"
   },
   "outputs": [
    {
     "data": {
      "text/html": [
       "<div>\n",
       "<style scoped>\n",
       "    .dataframe tbody tr th:only-of-type {\n",
       "        vertical-align: middle;\n",
       "    }\n",
       "\n",
       "    .dataframe tbody tr th {\n",
       "        vertical-align: top;\n",
       "    }\n",
       "\n",
       "    .dataframe thead th {\n",
       "        text-align: right;\n",
       "    }\n",
       "</style>\n",
       "<table border=\"1\" class=\"dataframe\">\n",
       "  <thead>\n",
       "    <tr style=\"text-align: right;\">\n",
       "      <th></th>\n",
       "      <th>real</th>\n",
       "      <th>model</th>\n",
       "    </tr>\n",
       "  </thead>\n",
       "  <tbody>\n",
       "    <tr>\n",
       "      <th>real</th>\n",
       "      <td>1.00000</td>\n",
       "      <td>0.86421</td>\n",
       "    </tr>\n",
       "    <tr>\n",
       "      <th>model</th>\n",
       "      <td>0.86421</td>\n",
       "      <td>1.00000</td>\n",
       "    </tr>\n",
       "  </tbody>\n",
       "</table>\n",
       "</div>"
      ],
      "text/plain": [
       "          real    model\n",
       "real   1.00000  0.86421\n",
       "model  0.86421  1.00000"
      ]
     },
     "execution_count": 27,
     "metadata": {},
     "output_type": "execute_result"
    }
   ],
   "source": [
    "c = pd.DataFrame(c,columns=['real','model'])\n",
    "c.corr()"
   ]
  },
  {
   "cell_type": "code",
   "execution_count": 28,
   "metadata": {
    "executionInfo": {
     "elapsed": 270,
     "status": "ok",
     "timestamp": 1633570979375,
     "user": {
      "displayName": "orlando belli",
      "photoUrl": "https://lh3.googleusercontent.com/a-/AOh14GjEYipEc8UYvi9I0KWDDIN3LXw_BByHVyiM2iLBKQ=s64",
      "userId": "16331666692442260184"
     },
     "user_tz": 300
    },
    "id": "bRQenqzbcM3-"
   },
   "outputs": [],
   "source": [
    "from sklearn.metrics import mean_absolute_error, mean_squared_error, r2_score"
   ]
  },
  {
   "cell_type": "code",
   "execution_count": 29,
   "metadata": {
    "colab": {
     "base_uri": "https://localhost:8080/"
    },
    "executionInfo": {
     "elapsed": 277,
     "status": "ok",
     "timestamp": 1633571011348,
     "user": {
      "displayName": "orlando belli",
      "photoUrl": "https://lh3.googleusercontent.com/a-/AOh14GjEYipEc8UYvi9I0KWDDIN3LXw_BByHVyiM2iLBKQ=s64",
      "userId": "16331666692442260184"
     },
     "user_tz": 300
    },
    "id": "MyNvTjjgP1GY",
    "outputId": "a9a58263-a693-4d49-cf72-bae09f9c2042"
   },
   "outputs": [
    {
     "data": {
      "text/plain": [
       "24.281343043499298"
      ]
     },
     "execution_count": 29,
     "metadata": {},
     "output_type": "execute_result"
    }
   ],
   "source": [
    "mean_absolute_error(y_test,y_pred)"
   ]
  },
  {
   "cell_type": "code",
   "execution_count": 30,
   "metadata": {
    "executionInfo": {
     "elapsed": 264,
     "status": "ok",
     "timestamp": 1633571041055,
     "user": {
      "displayName": "orlando belli",
      "photoUrl": "https://lh3.googleusercontent.com/a-/AOh14GjEYipEc8UYvi9I0KWDDIN3LXw_BByHVyiM2iLBKQ=s64",
      "userId": "16331666692442260184"
     },
     "user_tz": 300
    },
    "id": "G9xLoUxQP6uj"
   },
   "outputs": [],
   "source": [
    "mse =mean_squared_error(y_test,y_pred)"
   ]
  },
  {
   "cell_type": "code",
   "execution_count": 31,
   "metadata": {
    "colab": {
     "base_uri": "https://localhost:8080/"
    },
    "executionInfo": {
     "elapsed": 269,
     "status": "ok",
     "timestamp": 1633571046151,
     "user": {
      "displayName": "orlando belli",
      "photoUrl": "https://lh3.googleusercontent.com/a-/AOh14GjEYipEc8UYvi9I0KWDDIN3LXw_BByHVyiM2iLBKQ=s64",
      "userId": "16331666692442260184"
     },
     "user_tz": 300
    },
    "id": "e5PcJ2Cga7cv",
    "outputId": "3d533e33-5310-40a5-ec0a-e3ccfd7b8338"
   },
   "outputs": [
    {
     "data": {
      "text/plain": [
       "31.613146171528655"
      ]
     },
     "execution_count": 31,
     "metadata": {},
     "output_type": "execute_result"
    }
   ],
   "source": [
    "np.sqrt(mse)"
   ]
  },
  {
   "cell_type": "code",
   "execution_count": 32,
   "metadata": {
    "colab": {
     "base_uri": "https://localhost:8080/"
    },
    "executionInfo": {
     "elapsed": 261,
     "status": "ok",
     "timestamp": 1633571060918,
     "user": {
      "displayName": "orlando belli",
      "photoUrl": "https://lh3.googleusercontent.com/a-/AOh14GjEYipEc8UYvi9I0KWDDIN3LXw_BByHVyiM2iLBKQ=s64",
      "userId": "16331666692442260184"
     },
     "user_tz": 300
    },
    "id": "GdaPH-qnQRtP",
    "outputId": "460a49ed-9a1d-4c09-8195-594fa78fb0b2"
   },
   "outputs": [
    {
     "data": {
      "text/plain": [
       "0.7231585599988537"
      ]
     },
     "execution_count": 32,
     "metadata": {},
     "output_type": "execute_result"
    }
   ],
   "source": [
    "r2_score(y_test,y_pred)"
   ]
  },
  {
   "cell_type": "code",
   "execution_count": 33,
   "metadata": {
    "colab": {
     "base_uri": "https://localhost:8080/"
    },
    "executionInfo": {
     "elapsed": 282,
     "status": "ok",
     "timestamp": 1633571070435,
     "user": {
      "displayName": "orlando belli",
      "photoUrl": "https://lh3.googleusercontent.com/a-/AOh14GjEYipEc8UYvi9I0KWDDIN3LXw_BByHVyiM2iLBKQ=s64",
      "userId": "16331666692442260184"
     },
     "user_tz": 300
    },
    "id": "3KKAQKL6QWQ6",
    "outputId": "f1ee4f2f-a889-4b06-d867-75ec1dbf9f80"
   },
   "outputs": [
    {
     "data": {
      "text/plain": [
       "0.7231585599988537"
      ]
     },
     "execution_count": 33,
     "metadata": {},
     "output_type": "execute_result"
    }
   ],
   "source": [
    "regression.score(X_test,y_test)"
   ]
  },
  {
   "cell_type": "code",
   "execution_count": null,
   "metadata": {},
   "outputs": [],
   "source": []
  }
 ],
 "metadata": {
  "colab": {
   "collapsed_sections": [],
   "name": "3 Regresión lineal múltiple sensores.ipynb",
   "provenance": []
  },
  "kernelspec": {
   "display_name": "Python 3 (ipykernel)",
   "language": "python",
   "name": "python3"
  },
  "language_info": {
   "codemirror_mode": {
    "name": "ipython",
    "version": 3
   },
   "file_extension": ".py",
   "mimetype": "text/x-python",
   "name": "python",
   "nbconvert_exporter": "python",
   "pygments_lexer": "ipython3",
   "version": "3.9.12"
  }
 },
 "nbformat": 4,
 "nbformat_minor": 1
}
